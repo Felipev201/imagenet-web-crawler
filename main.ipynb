{
 "cells": [
  {
   "source": [
    "## Actividad Integradora #2 (ImageNET web crawler)\n",
    "Victor Hugo Oyervides - A01382836\n",
    "Astrid Thalía Arteaga Romero - A01420220\n",
    "Felipe de Jesús Villaseñor - A01382445\n",
    "Gustavo De Los Ríos Alatorre - A01410922\n",
    "Oscar Lerma - A01380817\n"
   ],
   "cell_type": "markdown",
   "metadata": {}
  },
  {
   "cell_type": "code",
   "execution_count": 12,
   "metadata": {},
   "outputs": [],
   "source": [
    "from selenium import webdriver\n",
    "from selenium.webdriver.common.keys import Keys\n",
    "from selenium.webdriver.common.by import By\n",
    "from skimage import io\n",
    "from urllib.request import urlopen\n",
    "import networkx as net\n",
    "import numpy as np\n",
    "import cv2"
   ]
  },
  {
   "cell_type": "code",
   "execution_count": null,
   "metadata": {},
   "outputs": [],
   "source": [
    "#Constants\n",
    "IMAGE_NET_URL = \"http://image-net.org/index\""
   ]
  },
  {
   "source": [
    "#WEB DRIVER\n",
    "driver = webdriver.Firefox() #For Firefox\n",
    "#driver = webdriver.Chrome() #For Chrome"
   ],
   "cell_type": "code",
   "metadata": {},
   "execution_count": null,
   "outputs": []
  },
  {
   "cell_type": "code",
   "execution_count": 20,
   "metadata": {},
   "outputs": [],
   "source": [
    "keyword = input(\"Enter a keyword\")"
   ]
  },
  {
   "cell_type": "code",
   "execution_count": null,
   "metadata": {},
   "outputs": [],
   "source": [
    "def get_image_net_urls(keyword):\n",
    "    global driver\n",
    "    driver.get(IMAGE_NET_URL)\n",
    "    assert \"ImageNet\" in driver.title\n",
    "    elem = driver.find_element_by_name(\"q\")\n",
    "    elem.clear()\n",
    "    #------------------ Aqui pon el nombre de lo que quieras buscar --------------------\n",
    "    elem.send_keys(keyword)\n",
    "    elem.send_keys(Keys.RETURN)\n",
    "    assert \"No results found.\" not in driver.page_source\n",
    "    #driver.close()\n",
    "    driver.implicitly_wait(5)\n",
    "    res=driver.find_element_by_css_selector('span.result_synset')\n",
    "    driver.implicitly_wait(5)\n",
    "    res.click()\n",
    "    driver.implicitly_wait(20)\n",
    "    down=driver.find_element_by_link_text('Downloads')\n",
    "    driver.implicitly_wait(5)\n",
    "    down.click()\n",
    "    elem1=driver.find_element_by_link_text('URLs')\n",
    "    driver.implicitly_wait(5)\n",
    "    elem1.click()\n",
    "    URLss = driver.find_element_by_tag_name('pre')\n",
    "    return list(URLss.text.split('\\n'))"
   ]
  },
  {
   "cell_type": "code",
   "execution_count": 9,
   "metadata": {
    "tags": [
     "outputPrepend"
    ]
   },
   "outputs": [
    {
     "output_type": "stream",
     "name": "stdout",
     "text": [
      "gs/first/cat.jpg\nhttp://farm2.static.flickr.com/1013/1287550918_37c0618cd4.jpg\nhttp://farm3.static.flickr.com/2419/1853759089_89af2e624e.jpg\nhttp://farm1.static.flickr.com/22/39573056_b7d7d4d32e.jpg\nhttp://farm1.static.flickr.com/40/86274598_4a81f3d9f1.jpg\nhttp://farm2.static.flickr.com/1063/955478132_cbd7a7df00.jpg\nhttp://farm1.static.flickr.com/69/165606472_b162981046.jpg\nhttp://farm1.static.flickr.com/174/371799379_954be6af0f.jpg\nhttp://www.harbormoon.com/images/orange_tiger_kitten.jpg\nhttp://farm3.static.flickr.com/2297/2156521163_f7d45b6f6e.jpg\nhttp://farm1.static.flickr.com/68/202726676_a0796b23bd.jpg\nhttp://farm1.static.flickr.com/41/112682674_9baac5dad3.jpg\nhttp://farm1.static.flickr.com/220/498398268_aae3009df3.jpg\nhttp://farm1.static.flickr.com/217/495308681_e317861b3e.jpg\nhttp://farm1.static.flickr.com/223/470045326_0372106ab0.jpg\nhttp://farm1.static.flickr.com/210/454081236_ec80633461.jpg\nhttp://farm1.static.flickr.com/220/498398180_1eef1030d4.jpg\nhttp://www.spfdbus.com/JessZoo/tiger/auroara/thumbnails/tiger-aroara-013.jpg\nhttp://farm1.static.flickr.com/50/135906953_e97cec80b4.jpg\nhttp://farm2.static.flickr.com/1413/1286961078_102af29059.jpg\nhttp://farm1.static.flickr.com/33/49606677_3e64cc676e.jpg\nhttp://farm1.static.flickr.com/119/283032077_1d4ee1a1ba.jpg\nhttp://farm1.static.flickr.com/11/13585591_d5c036e9d1.jpg\nhttp://farm1.static.flickr.com/22/25341804_a97cc2f95a.jpg\nhttp://static.flickr.com/74/223070551_857dc3264f.jpg\nhttp://www.kittybreak.com/kitties/2006-02-17_adventurer.jpg\nhttp://farm2.static.flickr.com/1408/697017891_77ff0d272a.jpg\nhttp://static.flickr.com/1130/876462488_d7602f0b3d.jpg\nhttp://farm2.static.flickr.com/1230/1343375875_a912924270.jpg\nhttp://farm2.static.flickr.com/1286/852162860_b4fef593a6.jpg\nhttp://farm2.static.flickr.com/1373/540653104_08e52db275.jpg\nhttp://farm1.static.flickr.com/15/19599643_8bf721c66a.jpg\nhttp://farm2.static.flickr.com/1047/1437760483_01017e96e2.jpg\nhttp://static.flickr.com/1223/1072969881_c8cf8109fc.jpg\nhttp://farm1.static.flickr.com/166/339533190_9cf17b4d96.jpg\nhttp://farm1.static.flickr.com/5/8828585_f85a3f3fa5.jpg\nhttp://farm3.static.flickr.com/2181/1916815270_9dbc30fa42.jpg\nhttp://farm3.static.flickr.com/2271/1541882092_7df1c00498.jpg\nhttp://static.flickr.com/80/242321252_37f7148b93.jpg\nhttp://static.flickr.com/1104/1453599760_6d1b56a759.jpg\nhttp://farm1.static.flickr.com/174/479775023_2186f04670.jpg\nhttp://www.robertefuller.com/RobertEFullersite/Images/tigerofbandhavgarh-small.gif\nhttp://farm1.static.flickr.com/178/431839118_cddbc33672.jpg\nhttp://farm1.static.flickr.com/164/425295067_a94eaf3f36.jpg\nhttp://farm1.static.flickr.com/60/174732335_7275892317.jpg\nhttp://static.flickr.com/42/103928967_9fe3bffb09.jpg\nhttp://farm1.static.flickr.com/75/383039924_320a6cffcc.jpg\nhttp://farm1.static.flickr.com/2/2532957_1185565845.jpg\nhttp://farm2.static.flickr.com/1249/1484672265_e0106aa2bf.jpg\nhttp://farm1.static.flickr.com/42/123580403_4a7dffa10a.jpg\nhttp://farm1.static.flickr.com/81/241955484_23709240d0.jpg\nhttp://img.dailymail.co.uk/i/pix/2007/10_03/tigercat2BNS_468x321.jpg\nhttp://farm3.static.flickr.com/2244/2102686236_2bf8ea1af5.jpg\nhttp://farm1.static.flickr.com/128/416648654_8451c97001.jpg\nhttp://farm1.static.flickr.com/81/236223662_3c2b5fe5d8.jpg\nhttp://farm2.static.flickr.com/1190/525121964_3968192858.jpg\nhttp://farm1.static.flickr.com/138/347227923_11052bff23.jpg\nhttp://www.solarnavigator.net/animal_kingdom/animal_images/Tiger_tigris_sumatran_subspecies_panthera.jpg\nhttp://farm1.static.flickr.com/227/453377309_d2930a27f7.jpg\nhttp://farm1.static.flickr.com/19/95146590_4f07c678cf.jpg\nhttp://farm1.static.flickr.com/119/292025205_18585f6526.jpg\nhttp://farm1.static.flickr.com/78/188803715_36f006e24e.jpg\nhttp://farm3.static.flickr.com/2243/2214414590_b7e27891fb.jpg\nhttp://farm2.static.flickr.com/1277/846882986_4de328b6b4.jpg\nhttp://farm1.static.flickr.com/23/34662543_6b38b8d20a.jpg\nhttp://farm3.static.flickr.com/2182/2130853705_7762d01eae.jpg\nhttp://static.flickr.com/1440/964968906_db91a62e17.jpg\nhttp://www.griefonline.com/images/kiki_grief.jpg\nhttp://farm2.static.flickr.com/1427/1469375597_b0d405d13d.jpg\nhttp://static.flickr.com/225/512489293_24b4dcbc90.jpg\nhttp://farm2.static.flickr.com/1435/1468792624_3f28670790.jpg\nhttp://farm1.static.flickr.com/20/70401320_912e4d2d73.jpg\nhttp://farm1.static.flickr.com/1/1004525_cba96ba3c3.jpg\nhttp://static.flickr.com/1304/714238789_68592545ef.jpg\nhttp://farm1.static.flickr.com/51/129108705_e66b66c48c.jpg\nhttp://farm1.static.flickr.com/168/479775027_fbc2e23970.jpg\nhttp://farm3.static.flickr.com/2022/1974359367_c8c8b6888b.jpg\nhttp://dbottaro.tripod.com/PhotoAlbum/CAVacation2000/TigerCat.JPG\nhttp://farm1.static.flickr.com/48/133807327_5638ae5eae.jpg\nhttp://farm2.static.flickr.com/1184/1380848263_47fae8ab3a.jpg\nhttp://farm1.static.flickr.com/29/61427418_714dc1d936.jpg\nhttp://farm2.static.flickr.com/1025/998182751_c8f59e618e.jpg\nhttp://farm2.static.flickr.com/1170/839021100_9f7644c1ea.jpg\nhttp://farm3.static.flickr.com/2148/2159743667_3dc4336805.jpg\nhttp://farm1.static.flickr.com/41/123391236_f39d405ba8.jpg\nhttp://farm1.static.flickr.com/21/30402229_d3c45d0b63.jpg\nhttp://farm1.static.flickr.com/231/511180181_7aa8058408.jpg\nhttp://farm1.static.flickr.com/24/42134687_2dcbca7ea1.jpg\nhttp://farm1.static.flickr.com/43/92019032_a4a5367bb8.jpg\nhttp://farm3.static.flickr.com/2276/1641636487_12a2df0642.jpg\nhttp://farm1.static.flickr.com/58/178552778_3d8c84d090.jpg\nhttp://farm2.static.flickr.com/1368/596921389_2122f67089.jpg\nhttp://farm1.static.flickr.com/77/195541676_2949d7cc58.jpg\nhttp://farm1.static.flickr.com/120/311234045_257a6f0ce2.jpg\nhttp://farm1.static.flickr.com/25/45802038_a3f5a66ea3.jpg\nhttp://farm1.static.flickr.com/26/54452247_22e1cff358.jpg\nhttp://farm2.static.flickr.com/1197/1140738526_e288d310e2.jpg\nhttp://farm1.static.flickr.com/221/513321333_d40e8da1b5.jpg\nhttp://www.animalrescuefoundation.org/cat_tiger.jpg\nhttp://www.co-opliving.com/coopliving/issues/2001/August/images/ch_coolcat.jpg\nhttp://malarze.com/obrazy/orl_t_cat.jpg\nhttp://farm2.static.flickr.com/1429/1252382190_8aca4e6356.jpg\nhttp://farm1.static.flickr.com/22/25341802_95203fb8be.jpg\nhttp://farm1.static.flickr.com/99/268411313_df3b73cb81.jpg\nhttp://farm3.static.flickr.com/2272/2231206003_461ba2b7b9.jpg\nhttp://farm3.static.flickr.com/2002/1760479467_068432dd3f.jpg\nhttp://static.flickr.com/30/64071467_26c4cd6e60.jpg\nhttp://farm2.static.flickr.com/1387/597163670_099446b687.jpg\nhttp://farm1.static.flickr.com/156/416614617_c3b24b70f7.jpg\nhttp://farm2.static.flickr.com/1124/529305169_90b3031371.jpg\nhttp://farm3.static.flickr.com/2136/2053642974_da6791e91f.jpg\nhttp://farm1.static.flickr.com/29/65081958_fa8d53af1b.jpg\nhttp://farm2.static.flickr.com/1272/877030684_c3e43d6320.jpg\nhttp://farm1.static.flickr.com/23/30029940_da61e7db9d.jpg\nhttp://farm2.static.flickr.com/1225/718539612_b344a6a2c8.jpg\nhttp://farm1.static.flickr.com/91/232039015_264d2cf08d.jpg\nhttp://z.about.com/d/cats/1/7/k/y/asa_tiger.jpg\nhttp://farm1.static.flickr.com/98/257851502_1a78655da8.jpg\nhttp://farm2.static.flickr.com/1367/1074598047_9c49d82aca.jpg\nhttp://farm2.static.flickr.com/1010/798503612_b64cc21817.jpg\nhttp://farm3.static.flickr.com/2163/2113439386_399c7611f1.jpg\nhttp://farm3.static.flickr.com/2358/1774979329_77b9567164.jpg\nhttp://farm1.static.flickr.com/26/39573046_3b8907bdca.jpg\nhttp://farm2.static.flickr.com/1334/1129378663_f529473b75.jpg\nhttp://farm2.static.flickr.com/1101/1277930406_89098c53dd.jpg\nhttp://static.flickr.com/190/505130662_b801adbccb.jpg\nhttp://farm1.static.flickr.com/36/120088940_d0b0289686.jpg\nhttp://farm1.static.flickr.com/23/33777027_f817f38e93.jpg\nhttp://www.peeptoadpetsitting.com/sox%20new%20pic.jpg\nhttp://farm2.static.flickr.com/1108/925773657_640e143da8.jpg\nhttp://farm3.static.flickr.com/2171/2195199771_44d1f92c9c.jpg\nhttp://farm1.static.flickr.com/211/504313582_57ba5e45cc.jpg\nhttp://farm3.static.flickr.com/2075/2184107959_5e252b07b5.jpg\nhttp://farm1.static.flickr.com/139/348423737_92bacd1f57.jpg\nhttp://farm2.static.flickr.com/1102/1484610510_2992aa16bf.jpg\nhttp://static.flickr.com/1310/1483757053_673d892153.jpg\nhttp://farm2.static.flickr.com/1106/727980581_979d08a4f1.jpg\nhttp://farm1.static.flickr.com/105/290844103_720b264e6f.jpg\nhttp://farm1.static.flickr.com/244/515883771_a2b08a1eca.jpg\nhttp://farm1.static.flickr.com/139/339697706_46ef43d3f1.jpg\nhttp://farm1.static.flickr.com/24/62347433_f519750764.jpg\nhttp://farm2.static.flickr.com/1150/807494820_e89e24f7e4.jpg\nhttp://farm1.static.flickr.com/67/198519299_10c276b8fa.jpg\nhttp://farm3.static.flickr.com/2390/2208405142_cd5801b9de.jpg\nhttp://farm3.static.flickr.com/2094/1713997097_5db5f59ccf.jpg\nhttp://static.flickr.com/129/375484861_b023a57205.jpg\nhttp://farm2.static.flickr.com/1201/1285591549_593ca7cf6a.jpg\nhttp://farm1.static.flickr.com/227/502027704_ef30e4e492.jpg\nhttp://farm1.static.flickr.com/55/128890692_3eada08667.jpg\nhttp://farm1.static.flickr.com/117/263883487_ff49977e8c.jpg\nhttp://www.mdlostpets.com/images/Cats/tabby2.JPG\nhttp://farm1.static.flickr.com/60/196885432_3bca121058.jpg\nhttp://farm1.static.flickr.com/32/53001843_6a18cee3f5.jpg\nhttp://static.flickr.com/117/299397051_3d94081b8c.jpg\nhttp://farm1.static.flickr.com/216/510103860_37ed42dc59.jpg\nhttp://www.kittybreak.com/kitties/2006-02-18_WatchfulMamaCat.jpg\nhttp://www.chuckawallark.com/images/smoking_cat.jpg\nhttp://farm3.static.flickr.com/2012/2165395449_5778912e08.jpg\nhttp://farm1.static.flickr.com/86/209330446_f12f90131a.jpg\nhttp://farm3.static.flickr.com/2315/2220376711_a5e5ee3d81.jpg\nhttp://farm1.static.flickr.com/40/113565692_f3d86014e2.jpg\nhttp://www1.istockphoto.com/file_thumbview_approve/723434/2/istockphoto_723434_tired_tiger.jpg\nhttp://farm1.static.flickr.com/119/300226420_49beef9efa.jpg\nhttp://farm3.static.flickr.com/2401/2232907484_19352280ed.jpg\nhttp://farm2.static.flickr.com/1217/811329934_ac967aa7b6.jpg\nhttp://farm1.static.flickr.com/147/358922305_c5817dc471.jpg\nhttp://farm3.static.flickr.com/2029/2201674003_bbd8f01e7a.jpg\nhttp://static.flickr.com/1433/1025957350_1982544b4d.jpg\nhttp://farm2.static.flickr.com/1209/1286800272_945b6d025d.jpg\nhttp://farm1.static.flickr.com/106/368295648_a35079e682.jpg\nhttp://farm1.static.flickr.com/23/34630974_c6ef06c52c.jpg\nhttp://farm2.static.flickr.com/1065/909036270_a8d24a0792.jpg\nhttp://farm2.static.flickr.com/1082/1333060689_cf9fa1900e.jpg\nhttp://www.stockphotospot.com/tiger-rubbing-against-a-tree-stock-photo-a66573.jpg\nhttp://farm1.static.flickr.com/53/141659362_9f9dfb6782.jpg\nhttp://farm2.static.flickr.com/1133/1141687717_890fe14d8e.jpg\nhttp://farm3.static.flickr.com/2274/2229295611_a30086db6a.jpg\nhttp://www.for-cats-only.com/images/mySubms/reviewFurnitureTigerBed.jpg\nhttp://lloydi.com/travel-writing/round-the-world-trip/country/06-thailand/04-kanchanaburi/images/manda-tiger-cub.jpg\nhttp://farm3.static.flickr.com/2310/2182637658_cb439637e9.jpg\nhttp://static.flickr.com/123/368151131_8ec05b14c8.jpg\nhttp://static.flickr.com/2309/2037723346_a871d0a1cf.jpg\nhttp://farm3.static.flickr.com/2052/2095245869_167f4df935.jpg\nhttp://farm3.static.flickr.com/2169/2048137462_dcaa3cd495.jpg\nhttp://farm2.static.flickr.com/1145/846860518_92dc5f0874.jpg\nhttp://farm2.static.flickr.com/1193/691096590_548ed71bf7.jpg\nhttp://zimmer.csufresno.edu/~mnogin/wildcats/212b-small.jpg\nhttp://farm2.static.flickr.com/1363/1224559581_c3c3464cca.jpg\nhttp://farm3.static.flickr.com/2264/2051151921_8ae7da599e.jpg\nhttp://farm2.static.flickr.com/1006/828707250_52b42578a8.jpg\nhttp://farm1.static.flickr.com/226/505880056_7ba7704e97.jpg\nhttp://farm3.static.flickr.com/2002/2080082253_bdb7b2e4f4.jpg\nhttp://farm3.static.flickr.com/2355/2101903625_63ae2c4b62.jpg\nhttp://farm2.static.flickr.com/1029/1479113570_7ab081bad0.jpg\nhttp://static.flickr.com/1091/567276998_81dbee8ec0.jpg\nhttp://farm3.static.flickr.com/2238/2191954666_29dd0c24b8.jpg\nhttp://farm1.static.flickr.com/183/372071576_388972cfcb.jpg\nhttp://farm1.static.flickr.com/50/143820538_4337b119d9.jpg\nhttp://farm2.static.flickr.com/1094/1371917878_f0d7937560.jpg\nhttp://farm2.static.flickr.com/1141/888742668_33b07f50ac.jpg\nhttp://farm1.static.flickr.com/44/129880737_1b8825c034.jpg\nhttp://www.curingdeath.com/Images/Tiger_The_House_Cat.jpg\nhttp://farm1.static.flickr.com/111/256675808_8f1378ed26.jpg\nhttp://www.spfdbus.com/JessZoo/tiger/auroara/images/tiger-aroara-014.jpg\nhttp://farm1.static.flickr.com/164/357584034_3759695ec1.jpg\nhttp://farm1.static.flickr.com/233/528034260_4025d20da6.jpg\nhttp://farm1.static.flickr.com/121/311760015_e0c83a8619.jpg\nhttp://farm2.static.flickr.com/1204/529556475_2f8a2f8b23.jpg\nhttp://www.sxc.hu/pic/m/v/vt/vtm/433434_tiger_cat.jpg\nhttp://farm1.static.flickr.com/212/516316867_882eecb7ba.jpg\nhttp://farm1.static.flickr.com/33/57534463_ccc770075a.jpg\nhttp://farm1.static.flickr.com/33/65048097_e5264bf855.jpg\nhttp://farm1.static.flickr.com/136/371068935_af213116ce.jpg\nhttp://www.j4u.ru/uploads/posts/thumbs/1149238639_tigercat06.jpg\nhttp://www.anyday.se/images/20070101220757_cat1.jpg\nhttp://farm1.static.flickr.com/151/333246955_d4b10135b5.jpg\nhttp://farm1.static.flickr.com/28/100739452_5be2c11557.jpg\nhttp://farm1.static.flickr.com/55/125337153_6921dc2fe9.jpg\nhttp://www.fadeeva.com/Tiger.jpg\nhttp://farm3.static.flickr.com/2216/1530391249_b310d4b331.jpg\nhttp://static.flickr.com/1073/965549584_10a693d626.jpg\nhttp://farm1.static.flickr.com/62/203822627_66cc7c0154.jpg\nhttp://farm3.static.flickr.com/2151/2214497345_9b893c8ea3.jpg\nhttp://static.flickr.com/219/468604184_9bf6008dac.jpg\nhttp://farm3.static.flickr.com/2125/1555904463_e508ed0241.jpg\nhttp://farm2.static.flickr.com/1234/691090878_ff9bf9071b.jpg\nhttp://farm1.static.flickr.com/37/123391323_754d1908e1.jpg\nhttp://farm1.static.flickr.com/22/31377472_8b8b15d01b.jpg\nhttp://farm1.static.flickr.com/33/64993478_7d0a5326ba.jpg\nhttp://farm1.static.flickr.com/188/426029501_9ad83db536.jpg\nhttp://farm1.static.flickr.com/37/121551046_762e9ccc99.jpg\nhttp://static.flickr.com/207/493758678_f3a4df8d6c.jpg\nhttp://lesezeichen.liebenstein.de/Pictures/Katze/Katze_Kopf_t.jpg\nhttp://farm1.static.flickr.com/183/468554869_bc2991a681.jpg\nhttp://farm2.static.flickr.com/1221/1011749126_44a195db4c.jpg\nhttp://rheali.files.wordpress.com/2007/06/tiger5.jpg\nhttp://farm3.static.flickr.com/2354/2102976081_61c8614be8.jpg\nhttp://farm3.static.flickr.com/2112/1808515209_3a2d958ca1.jpg\nhttp://farm2.static.flickr.com/1229/899083296_736d18ae4b.jpg\nhttp://static.flickr.com/1281/589037608_cc319496a8.jpg\nhttp://www.marleyfund.com/images/kitty_photos/SCKR%20%206-2-06%20032.jpg\nhttp://farm1.static.flickr.com/214/500287654_9fd5b90cfd.jpg\nhttp://www.visionlightgallery.com/gallery/images/JUL/JUL-0026_im.jpg\nhttp://farm1.static.flickr.com/64/230969738_689a138f92.jpg\nhttp://farm3.static.flickr.com/2077/2054958523_ee37d584f0.jpg\nhttp://farm2.static.flickr.com/1320/1468069114_c2db133fc0.jpg\nhttp://farm1.static.flickr.com/195/522713053_e27cc40632.jpg\nhttp://farm1.static.flickr.com/3/5874225_665db258f6.jpg\nhttp://farm1.static.flickr.com/202/471573199_68eb6d3714.jpg\nhttp://static.flickr.com/111/255186437_b7c6f78b86.jpg\nhttp://farm3.static.flickr.com/2182/1609807321_dd3fdba171.jpg\nhttp://showcats.dk/cats/Tigertilshowcatz.JPG\nhttp://farm2.static.flickr.com/1282/861774153_b4d1189962.jpg\nhttp://static.flickr.com/51/131545070_970a905e5c.jpg\nhttp://static.flickr.com/1188/798478318_090d512e68.jpg\nhttp://farm1.static.flickr.com/144/355262470_c0fdcc66de.jpg\nhttp://www.cs.bilkent.edu.tr/~duygulu/Research/images/tiger-org.jpg\nhttp://www.spfdbus.com/JessZoo/tiger/auroara/images/tiger-aroara-027.jpg\nhttp://farm2.static.flickr.com/1012/954632637_c5db7fa4d5.jpg\nhttp://farm1.static.flickr.com/53/139540077_f0673a254d.jpg\nhttp://farm1.static.flickr.com/227/495300082_3154ca61aa.jpg\nhttp://farm3.static.flickr.com/2338/1973374961_28d50cffa2.jpg\nhttp://farm3.static.flickr.com/2308/1591151943_db53f18894.jpg\nhttp://farm3.static.flickr.com/2231/2238652790_9814fb921f.jpg\nhttp://farm1.static.flickr.com/8/10932646_4585dbc01f.jpg\nhttp://image20.webshots.com/21/1/58/32/2097158320050028271vnuXRw_fs.jpg\nhttp://farm1.static.flickr.com/2/1791545_c55e171015.jpg\nhttp://farm2.static.flickr.com/1400/1327880566_d0aca6f91a.jpg\nhttp://farm1.static.flickr.com/123/343919093_775034cf9b.jpg\nhttp://farm3.static.flickr.com/2323/1511949988_df645b0815.jpg\nhttp://farm3.static.flickr.com/2383/2222051682_89b382011b.jpg\nhttp://www.lahaircutmobile.com/mobile_hair_salon/cards/5.jpg\nhttp://farm1.static.flickr.com/243/521363016_f61f3608b6.jpg\nhttp://farm1.static.flickr.com/241/523665487_471adedc2a.jpg\nhttp://farm2.static.flickr.com/1409/1010205192_6ce1a37dc5.jpg\nhttp://farm1.static.flickr.com/35/70401318_5071e1729d.jpg\nhttp://farm1.static.flickr.com/36/98627889_cdb44bd93d.jpg\nhttp://farm3.static.flickr.com/2403/2151918390_d8c2dc0a62.jpg\nhttp://farm2.static.flickr.com/1089/691116022_5a11f9b0c5.jpg\nhttp://farm1.static.flickr.com/22/31124072_2168d88716.jpg\nhttp://farm3.static.flickr.com/2085/1586410837_b9ce31c2b2.jpg\nhttp://farm3.static.flickr.com/2292/2135414008_967a7aebdf.jpg\nhttp://farm2.static.flickr.com/1067/1139801066_da7b3aa43f.jpg\nhttp://www.freeimage4u.com/images/tiger.jpg\nhttp://farm2.static.flickr.com/1425/1095983024_2ce1dcb2f6.jpg\nhttp://farm3.static.flickr.com/2048/1920513385_4ca27a7025.jpg\nhttp://farm2.static.flickr.com/1127/532973244_30f1581b95.jpg\nhttp://static.flickr.com/2270/1791071505_da56a8558f.jpg\nhttp://farm1.static.flickr.com/32/50019457_3c154b892f.jpg\nhttp://www.prestigiouspaw.com/tiger_op_450x600.jpg\nhttp://farm1.static.flickr.com/51/128230843_ffc20cb0b9.jpg\nhttp://graphics8.nytimes.com/images/blogs/thelede/posts/0201TIGER.JPG\nhttp://farm1.static.flickr.com/205/494701000_744cc3a83a.jpg\nhttp://farm1.static.flickr.com/33/371068122_d4278b6bb8.jpg\nhttp://farm1.static.flickr.com/53/126564047_b929724c89.jpg\nhttp://static.flickr.com/49/140061603_b409c946d8.jpg\nhttp://farm1.static.flickr.com/228/466024622_e9c3fa295d.jpg\nhttp://farm1.static.flickr.com/33/353006461_3e8a013e3a.jpg\nhttp://farm1.static.flickr.com/9/145102901_f81f542aee.jpg\nhttp://farm1.static.flickr.com/34/119397831_1d7e8fbe06.jpg\nhttp://farm2.static.flickr.com/1318/964126791_6f40ca5177.jpg\nhttp://static.flickr.com/47/245646791_6375aaf4d1.jpg\nhttp://farm2.static.flickr.com/1136/798528274_a5befb1ba6.jpg\nhttp://farm1.static.flickr.com/232/512411718_da2e0a277d.jpg\nhttp://farm1.static.flickr.com/57/213023529_8d84375b05.jpg\nhttp://farm1.static.flickr.com/99/261302129_61e2b66f0a.jpg\nhttp://farm3.static.flickr.com/2315/2134872947_06c52a0ef5.jpg\nhttp://farm3.static.flickr.com/2346/2088675755_f68f637f20.jpg\nhttp://farm3.static.flickr.com/2355/2221103121_d642f16803.jpg\nhttp://farm1.static.flickr.com/59/203513295_3a2d83bbc1.jpg\nhttp://farm1.static.flickr.com/81/219313155_59fd1fbbe5.jpg\nhttp://farm2.static.flickr.com/1274/1335935815_b59b4c3507.jpg\nhttp://farm3.static.flickr.com/2126/2090435515_841c4a1b6a.jpg\nhttp://farm1.static.flickr.com/24/53238257_0037925651.jpg\nhttp://farm3.static.flickr.com/2341/2187709529_637f4b1ea1.jpg\nhttp://farm1.static.flickr.com/186/444986815_cdecf4ccc0.jpg\nhttp://static.flickr.com/2092/1802154654_81e50e9821.jpg\nhttp://news.nationalgeographic.com/news/2007/03/images/070321-toygers-photos_big.jpg\nhttp://flputer.com/Images/ppow/TigerNapBack_1222.jpg\nhttp://farm2.static.flickr.com/1352/965676843_a8f599c9f7.jpg\nhttp://farm1.static.flickr.com/112/298845523_84a02f7bac.jpg\nhttp://farm3.static.flickr.com/2215/2101885301_60bd3d4654.jpg\nhttp://static.flickr.com/2233/1891486956_b69c16be2c.jpg\nhttp://farm1.static.flickr.com/62/204035942_de0d323af5.jpg\nhttp://farm1.static.flickr.com/22/29478281_687a41c197.jpg\nhttp://www.kostich.com/tigersfighting.jpg\nhttp://farm3.static.flickr.com/2116/2080864702_4ed05238fc.jpg\nhttp://farm1.static.flickr.com/22/25341800_b45f23aedf.jpg\nhttp://farm1.static.flickr.com/54/161285442_8bcc94a3d5.jpg\nhttp://farm3.static.flickr.com/2073/2185538257_4623d9f7dd.jpg\nhttp://farm2.static.flickr.com/1381/565727409_61693c5e14.jpg\nhttp://farm2.static.flickr.com/1021/913499064_e1da6ed452.jpg\nhttp://static.flickr.com/201/493515188_c4b1664745.jpg\n"
     ]
    }
   ],
   "source": [
    "URLs = get_image_net_urls(keyword)"
   ]
  },
  {
   "cell_type": "code",
   "execution_count": 23,
   "metadata": {
    "tags": []
   },
   "outputs": [],
   "source": [
    "def clean_urls(urls):\n",
    "    return_urls = []\n",
    "    for url in urls:\n",
    "        try:\n",
    "            status_code = urlopen(url).getcode()\n",
    "            if status_code == 200:\n",
    "                return_urls.append(url)\n",
    "        except:\n",
    "            print('Error verifying URL = ' + url)\n",
    "    return return_urls"
   ]
  },
  {
   "cell_type": "code",
   "execution_count": null,
   "metadata": {},
   "outputs": [],
   "source": [
    "URLs = clean_urls(URLs)"
   ]
  },
  {
   "cell_type": "code",
   "execution_count": null,
   "metadata": {},
   "outputs": [],
   "source": [
    "dividir = int(len(URLs)*0.80)\n",
    "URL_train = URLs[0:dividir]\n",
    "URL_test = URLs[dividir:-1]"
   ]
  },
  {
   "cell_type": "code",
   "execution_count": 19,
   "metadata": {},
   "outputs": [
    {
     "output_type": "error",
     "ename": "ValueError",
     "evalue": "Could not find a format to read the specified file in single-image mode",
     "traceback": [
      "\u001b[1;31m---------------------------------------------------------------------------\u001b[0m",
      "\u001b[1;31mValueError\u001b[0m                                Traceback (most recent call last)",
      "\u001b[1;32m<ipython-input-19-055dc95c1395>\u001b[0m in \u001b[0;36m<module>\u001b[1;34m\u001b[0m\n\u001b[0;32m      5\u001b[0m     \u001b[1;31m# download the image using scikit-image\u001b[0m\u001b[1;33m\u001b[0m\u001b[1;33m\u001b[0m\u001b[1;33m\u001b[0m\u001b[0m\n\u001b[0;32m      6\u001b[0m     \u001b[0mname\u001b[0m \u001b[1;33m=\u001b[0m \u001b[0mcarpeta\u001b[0m \u001b[1;33m+\u001b[0m \u001b[1;34m'/'\u001b[0m \u001b[1;33m+\u001b[0m \u001b[1;34m'cat_train'\u001b[0m \u001b[1;33m+\u001b[0m \u001b[0mstr\u001b[0m\u001b[1;33m(\u001b[0m\u001b[0mit\u001b[0m\u001b[1;33m)\u001b[0m \u001b[1;33m+\u001b[0m \u001b[1;34m'.jpg'\u001b[0m\u001b[1;33m\u001b[0m\u001b[1;33m\u001b[0m\u001b[0m\n\u001b[1;32m----> 7\u001b[1;33m     \u001b[0mimage\u001b[0m \u001b[1;33m=\u001b[0m \u001b[0mio\u001b[0m\u001b[1;33m.\u001b[0m\u001b[0mimread\u001b[0m\u001b[1;33m(\u001b[0m\u001b[0murl\u001b[0m\u001b[1;33m)\u001b[0m\u001b[1;33m\u001b[0m\u001b[1;33m\u001b[0m\u001b[0m\n\u001b[0m\u001b[0;32m      8\u001b[0m     \u001b[0mimage1\u001b[0m \u001b[1;33m=\u001b[0m \u001b[0mcv2\u001b[0m\u001b[1;33m.\u001b[0m\u001b[0mcvtColor\u001b[0m\u001b[1;33m(\u001b[0m\u001b[0mimage\u001b[0m\u001b[1;33m,\u001b[0m \u001b[0mcv2\u001b[0m\u001b[1;33m.\u001b[0m\u001b[0mCOLOR_BGR2RGB\u001b[0m\u001b[1;33m)\u001b[0m\u001b[1;33m\u001b[0m\u001b[1;33m\u001b[0m\u001b[0m\n\u001b[0;32m      9\u001b[0m     \u001b[1;31m#cv2.imshow(\"Correct\", image1)\u001b[0m\u001b[1;33m\u001b[0m\u001b[1;33m\u001b[0m\u001b[1;33m\u001b[0m\u001b[0m\n",
      "\u001b[1;32mC:\\Program Files (x86)\\Python36-32\\lib\\site-packages\\skimage\\io\\_io.py\u001b[0m in \u001b[0;36mimread\u001b[1;34m(fname, as_gray, plugin, **plugin_args)\u001b[0m\n\u001b[0;32m     46\u001b[0m \u001b[1;33m\u001b[0m\u001b[0m\n\u001b[0;32m     47\u001b[0m     \u001b[1;32mwith\u001b[0m \u001b[0mfile_or_url_context\u001b[0m\u001b[1;33m(\u001b[0m\u001b[0mfname\u001b[0m\u001b[1;33m)\u001b[0m \u001b[1;32mas\u001b[0m \u001b[0mfname\u001b[0m\u001b[1;33m:\u001b[0m\u001b[1;33m\u001b[0m\u001b[1;33m\u001b[0m\u001b[0m\n\u001b[1;32m---> 48\u001b[1;33m         \u001b[0mimg\u001b[0m \u001b[1;33m=\u001b[0m \u001b[0mcall_plugin\u001b[0m\u001b[1;33m(\u001b[0m\u001b[1;34m'imread'\u001b[0m\u001b[1;33m,\u001b[0m \u001b[0mfname\u001b[0m\u001b[1;33m,\u001b[0m \u001b[0mplugin\u001b[0m\u001b[1;33m=\u001b[0m\u001b[0mplugin\u001b[0m\u001b[1;33m,\u001b[0m \u001b[1;33m**\u001b[0m\u001b[0mplugin_args\u001b[0m\u001b[1;33m)\u001b[0m\u001b[1;33m\u001b[0m\u001b[1;33m\u001b[0m\u001b[0m\n\u001b[0m\u001b[0;32m     49\u001b[0m \u001b[1;33m\u001b[0m\u001b[0m\n\u001b[0;32m     50\u001b[0m     \u001b[1;32mif\u001b[0m \u001b[1;32mnot\u001b[0m \u001b[0mhasattr\u001b[0m\u001b[1;33m(\u001b[0m\u001b[0mimg\u001b[0m\u001b[1;33m,\u001b[0m \u001b[1;34m'ndim'\u001b[0m\u001b[1;33m)\u001b[0m\u001b[1;33m:\u001b[0m\u001b[1;33m\u001b[0m\u001b[1;33m\u001b[0m\u001b[0m\n",
      "\u001b[1;32mC:\\Program Files (x86)\\Python36-32\\lib\\site-packages\\skimage\\io\\manage_plugins.py\u001b[0m in \u001b[0;36mcall_plugin\u001b[1;34m(kind, *args, **kwargs)\u001b[0m\n\u001b[0;32m    207\u001b[0m                                (plugin, kind))\n\u001b[0;32m    208\u001b[0m \u001b[1;33m\u001b[0m\u001b[0m\n\u001b[1;32m--> 209\u001b[1;33m     \u001b[1;32mreturn\u001b[0m \u001b[0mfunc\u001b[0m\u001b[1;33m(\u001b[0m\u001b[1;33m*\u001b[0m\u001b[0margs\u001b[0m\u001b[1;33m,\u001b[0m \u001b[1;33m**\u001b[0m\u001b[0mkwargs\u001b[0m\u001b[1;33m)\u001b[0m\u001b[1;33m\u001b[0m\u001b[1;33m\u001b[0m\u001b[0m\n\u001b[0m\u001b[0;32m    210\u001b[0m \u001b[1;33m\u001b[0m\u001b[0m\n\u001b[0;32m    211\u001b[0m \u001b[1;33m\u001b[0m\u001b[0m\n",
      "\u001b[1;32mC:\\Program Files (x86)\\Python36-32\\lib\\site-packages\\skimage\\io\\_plugins\\imageio_plugin.py\u001b[0m in \u001b[0;36mimread\u001b[1;34m(*args, **kwargs)\u001b[0m\n\u001b[0;32m      8\u001b[0m \u001b[1;33m@\u001b[0m\u001b[0mwraps\u001b[0m\u001b[1;33m(\u001b[0m\u001b[0mimageio_imread\u001b[0m\u001b[1;33m)\u001b[0m\u001b[1;33m\u001b[0m\u001b[1;33m\u001b[0m\u001b[0m\n\u001b[0;32m      9\u001b[0m \u001b[1;32mdef\u001b[0m \u001b[0mimread\u001b[0m\u001b[1;33m(\u001b[0m\u001b[1;33m*\u001b[0m\u001b[0margs\u001b[0m\u001b[1;33m,\u001b[0m \u001b[1;33m**\u001b[0m\u001b[0mkwargs\u001b[0m\u001b[1;33m)\u001b[0m\u001b[1;33m:\u001b[0m\u001b[1;33m\u001b[0m\u001b[1;33m\u001b[0m\u001b[0m\n\u001b[1;32m---> 10\u001b[1;33m     \u001b[1;32mreturn\u001b[0m \u001b[0mnp\u001b[0m\u001b[1;33m.\u001b[0m\u001b[0masarray\u001b[0m\u001b[1;33m(\u001b[0m\u001b[0mimageio_imread\u001b[0m\u001b[1;33m(\u001b[0m\u001b[1;33m*\u001b[0m\u001b[0margs\u001b[0m\u001b[1;33m,\u001b[0m \u001b[1;33m**\u001b[0m\u001b[0mkwargs\u001b[0m\u001b[1;33m)\u001b[0m\u001b[1;33m)\u001b[0m\u001b[1;33m\u001b[0m\u001b[1;33m\u001b[0m\u001b[0m\n\u001b[0m",
      "\u001b[1;32mC:\\Program Files (x86)\\Python36-32\\lib\\site-packages\\imageio\\core\\functions.py\u001b[0m in \u001b[0;36mimread\u001b[1;34m(uri, format, **kwargs)\u001b[0m\n\u001b[0;32m    263\u001b[0m \u001b[1;33m\u001b[0m\u001b[0m\n\u001b[0;32m    264\u001b[0m     \u001b[1;31m# Get reader and read first\u001b[0m\u001b[1;33m\u001b[0m\u001b[1;33m\u001b[0m\u001b[1;33m\u001b[0m\u001b[0m\n\u001b[1;32m--> 265\u001b[1;33m     \u001b[0mreader\u001b[0m \u001b[1;33m=\u001b[0m \u001b[0mread\u001b[0m\u001b[1;33m(\u001b[0m\u001b[0muri\u001b[0m\u001b[1;33m,\u001b[0m \u001b[0mformat\u001b[0m\u001b[1;33m,\u001b[0m \u001b[1;34m\"i\"\u001b[0m\u001b[1;33m,\u001b[0m \u001b[1;33m**\u001b[0m\u001b[0mkwargs\u001b[0m\u001b[1;33m)\u001b[0m\u001b[1;33m\u001b[0m\u001b[1;33m\u001b[0m\u001b[0m\n\u001b[0m\u001b[0;32m    266\u001b[0m     \u001b[1;32mwith\u001b[0m \u001b[0mreader\u001b[0m\u001b[1;33m:\u001b[0m\u001b[1;33m\u001b[0m\u001b[1;33m\u001b[0m\u001b[0m\n\u001b[0;32m    267\u001b[0m         \u001b[1;32mreturn\u001b[0m \u001b[0mreader\u001b[0m\u001b[1;33m.\u001b[0m\u001b[0mget_data\u001b[0m\u001b[1;33m(\u001b[0m\u001b[1;36m0\u001b[0m\u001b[1;33m)\u001b[0m\u001b[1;33m\u001b[0m\u001b[1;33m\u001b[0m\u001b[0m\n",
      "\u001b[1;32mC:\\Program Files (x86)\\Python36-32\\lib\\site-packages\\imageio\\core\\functions.py\u001b[0m in \u001b[0;36mget_reader\u001b[1;34m(uri, format, mode, **kwargs)\u001b[0m\n\u001b[0;32m    180\u001b[0m         \u001b[0mmodename\u001b[0m \u001b[1;33m=\u001b[0m \u001b[0mMODENAMES\u001b[0m\u001b[1;33m.\u001b[0m\u001b[0mget\u001b[0m\u001b[1;33m(\u001b[0m\u001b[0mmode\u001b[0m\u001b[1;33m,\u001b[0m \u001b[0mmode\u001b[0m\u001b[1;33m)\u001b[0m\u001b[1;33m\u001b[0m\u001b[1;33m\u001b[0m\u001b[0m\n\u001b[0;32m    181\u001b[0m         raise ValueError(\n\u001b[1;32m--> 182\u001b[1;33m             \u001b[1;34m\"Could not find a format to read the specified file in %s mode\"\u001b[0m \u001b[1;33m%\u001b[0m \u001b[0mmodename\u001b[0m\u001b[1;33m\u001b[0m\u001b[1;33m\u001b[0m\u001b[0m\n\u001b[0m\u001b[0;32m    183\u001b[0m         )\n\u001b[0;32m    184\u001b[0m \u001b[1;33m\u001b[0m\u001b[0m\n",
      "\u001b[1;31mValueError\u001b[0m: Could not find a format to read the specified file in single-image mode"
     ]
    }
   ],
   "source": [
    "it = 1\n",
    "# ----------------Pon el nombre de la carpeta de train aqui\n",
    "carpeta = 'train_images'\n",
    "for url in URL_train:\n",
    "    # download the image using scikit-image\n",
    "    name = carpeta + '/' + keyword + '_train' + str(it) + '.jpg'\n",
    "    try:\n",
    "        image = io.imread(url)\n",
    "        image1 = cv2.cvtColor(image, cv2.COLOR_BGR2RGB)\n",
    "        cv2.imwrite(name,image1)\n",
    "        cv2.waitKey(0)\n",
    "        it= it + 1\n",
    "    except:\n",
    "        pass"
   ]
  },
  {
   "cell_type": "code",
   "execution_count": null,
   "metadata": {},
   "outputs": [],
   "source": [
    "it = 1\n",
    "# -----------------Pon el nombre de la carpeta de test aqui\n",
    "carpeta = 'test_images'\n",
    "for url in URL_test:\n",
    "    # download the image using scikit-image\n",
    "    name = carpeta + keyword + '_test' + str(it) + '.jpg'\n",
    "    try:\n",
    "        image = io.imread(url)\n",
    "        image1 = cv2.cvtColor(image, cv2.COLOR_BGR2RGB)\n",
    "        cv2.imwrite(name,image1)\n",
    "        cv2.waitKey(0)\n",
    "        it= it + 1\n",
    "    except:\n",
    "        pass"
   ]
  }
 ],
 "metadata": {
  "kernelspec": {
   "name": "python36832bit949440b8b4d54ce3b8b9908526f6e602",
   "display_name": "Python 3.6.8 32-bit"
  },
  "language_info": {
   "codemirror_mode": {
    "name": "ipython",
    "version": 3
   },
   "file_extension": ".py",
   "mimetype": "text/x-python",
   "name": "python",
   "nbconvert_exporter": "python",
   "pygments_lexer": "ipython3",
   "version": "3.6.8-final"
  }
 },
 "nbformat": 4,
 "nbformat_minor": 2
}